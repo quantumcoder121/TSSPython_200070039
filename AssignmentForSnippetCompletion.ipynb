{
  "nbformat": 4,
  "nbformat_minor": 5,
  "metadata": {
    "kernelspec": {
      "name": "python3",
      "display_name": "Python 3",
      "language": "python"
    },
    "language_info": {
      "name": "python",
      "version": "3.6.13",
      "mimetype": "text/x-python",
      "codemirror_mode": {
        "name": "ipython",
        "version": 3
      },
      "pygments_lexer": "ipython3",
      "nbconvert_exporter": "python",
      "file_extension": ".py"
    },
    "colab": {
      "name": "AssignmentForSnippetCompletion.ipynb",
      "provenance": [],
      "collapsed_sections": []
    }
  },
  "cells": [
    {
      "cell_type": "markdown",
      "metadata": {
        "id": "Fwwqrw4Az9wM"
      },
      "source": [
        "# Assignment: Complete the Snippet (Snippet completed)\n"
      ],
      "id": "Fwwqrw4Az9wM"
    },
    {
      "cell_type": "markdown",
      "metadata": {
        "id": "DMVdhAmoz9wP"
      },
      "source": [
        "Shubh started building a basic Python Script which goes through the entire text of a particular book and mugs up all its words. After that it asks you for a word, goes over the times when this word came in the text and gives you the complete sentence in which it was used. You may choose to ask for as many such sentences as the number of occurences of the word.\n",
        "\n",
        "He's managed to come up with the part where he loads the file into Memory. He also managed to come up with snippets of code which could potentially do something if completed, but he has many deadlines to look after and not enough caffeine to turn to code. Can you help him?"
      ],
      "id": "DMVdhAmoz9wP"
    },
    {
      "cell_type": "code",
      "metadata": {
        "trusted": true,
        "id": "mg8eSYi4z9wU"
      },
      "source": [
        "File = open(\"HarryPotterAndTheSorcerersStone.txt\", 'r') #This is to open the file which is to be read."
      ],
      "id": "mg8eSYi4z9wU",
      "execution_count": null,
      "outputs": []
    },
    {
      "cell_type": "markdown",
      "metadata": {
        "id": "duf3gLEWz9wY"
      },
      "source": [
        "Next he makes a list of all the words present in the novel mapping them to their index(position) in the list of words (i.e. ListOfWords). This is done by mapping every word (a string) to a list (list of indices), and this is stored as a Dictionary (DictionaryoOfWords)\n",
        "\n",
        "\n",
        "\n",
        "He makes use of the readlines() method which is used to extract all the lines from any text and the split() function which could be used to split any sentence into distinct words. The replace() method is used on strings to replace certain segments of the string with something else."
      ],
      "id": "duf3gLEWz9wY"
    },
    {
      "cell_type": "code",
      "metadata": {
        "trusted": true,
        "id": "SmSbWQicz9wb"
      },
      "source": [
        "DictionaryOfWords = {}  #Dictionary mapping every word to a list (of indices of the words' occurences).\n",
        "Novel = []  #List of all words in the order, in which they appear.\n",
        "\n",
        "i = 0 #Counter Variable to keep track of index of words.\n",
        "\n",
        "for line in File.readlines(): #Iterating over all lines present in the text.\n",
        "    \n",
        "  line = line.replace(\".\", \"\").replace(\",\", \"\").replace('?', '').replace('!', '').replace('[', '').replace(']', '').replace('(', '').replace(')', '').replace('%', '').replace('/', '').replace('\\', '')      \n",
        "\n",
        "  for word in line.split(' '):  #This would split the line into many different words, and iterate over these words\n",
        "                                                                             \n",
        "    if word in DictionaryOfWords.keys():  #If the word is already present in the dictionary\n",
        "      DictionaryOfWords.get(word).append(i)        \n",
        "                                                                             \n",
        "    else:\n",
        "      custom_list = []        \n",
        "      custom_list.append(i)\n",
        "      DictionaryOfWords.update({word:custom_list})  #Creating a new entry in the dictionary.\n",
        "                                \n",
        "    Novel.append(word)  #Adding the Word in the Novel's ordered list of words\n",
        "                                                                             \n",
        "    i+=1"
      ],
      "id": "SmSbWQicz9wb",
      "execution_count": null,
      "outputs": []
    },
    {
      "cell_type": "markdown",
      "metadata": {
        "id": "Vzuonp4mz9we"
      },
      "source": [
        "That guy truly left a lot of work for you!\n",
        "\n",
        "Now that you've done that, We have the words in the novel alongwith where they appeared in the text loaded into memory (Thanks to You!).\n",
        "\n",
        "The Next Step would be to answer any queries the user may have.\n",
        "\n",
        "To do this, we define the function GetQuery() which returns the word as well as the number of results the user wants to see (as a tuple):\n",
        "\n"
      ],
      "id": "Vzuonp4mz9we"
    },
    {
      "cell_type": "code",
      "metadata": {
        "trusted": true,
        "id": "IwhchHHyz9wg"
      },
      "source": [
        "#Function to take Query from the User.\n",
        "\n",
        "def GetQuery():\n",
        "   \n",
        "  word = str(input(\"Enter your word and press Enter: \"))  #Getting Input from the user regarding what word the user wants to query for.\n",
        "\n",
        "  Number = int(input(\"Enter maximum number of results you wish to see and press Enter: \"))  #Getting Input from the user regarding how many results the user wants to see.\n",
        "\n",
        "  return (word, Number) #Returning output as a tuple of the word and the Number of results       "
      ],
      "id": "IwhchHHyz9wg",
      "execution_count": null,
      "outputs": []
    },
    {
      "cell_type": "markdown",
      "metadata": {
        "id": "ZtRO9ou1z9wk"
      },
      "source": [
        "Now, We need a function which takes as input the index of any particular word and prints the words surrounding it as if they were in an actual sentence. \n",
        "\n",
        "This is done by iterating over the words surrounding it, and printing them with gaps in between. We also assume that this occurence isn't a boundary case and thus, the 10 words surronding it actually exist."
      ],
      "id": "ZtRO9ou1z9wk"
    },
    {
      "cell_type": "code",
      "metadata": {
        "trusted": true,
        "id": "Yvzglwnlz9wm"
      },
      "source": [
        "def PrintContext(index):\n",
        "    \n",
        "  global Novel  #Declares the list Novel as a Global Variable\n",
        "    \n",
        "  for i in range(index - 5, index + 6): #Defines the range so that the task above is fulfilled\n",
        "    print(Novel[i], end = ' ') #Prints the word (using List Indexing) with a space after that\n",
        "    print('\\n') #newline"
      ],
      "id": "Yvzglwnlz9wm",
      "execution_count": null,
      "outputs": []
    },
    {
      "cell_type": "markdown",
      "metadata": {
        "id": "CcrBS8Gcz9wo"
      },
      "source": [
        "The result of the GetQuery() function will be passed into a second function which would take as input the word and the number of results to be displayed and do so!"
      ],
      "id": "CcrBS8Gcz9wo"
    },
    {
      "cell_type": "code",
      "metadata": {
        "trusted": true,
        "id": "Prmwafo7z9wq"
      },
      "source": [
        "def PrintResult(word, NumQuery):\n",
        "  \n",
        "  global DictionaryOfWords  #Declares the dictionary DictionaryOfWords as a Global Variable\n",
        "    \n",
        "  L = DictionaryOfWords.get(word) \n",
        "    \n",
        "  for i in range(0,min(len(L),NumQuery)):\n",
        "    PrintContext(L[i])  #Prints the words surrounding the ith occurence of the given word"
      ],
      "id": "Prmwafo7z9wq",
      "execution_count": null,
      "outputs": []
    },
    {
      "cell_type": "markdown",
      "metadata": {
        "id": "J8t4tOQEz9ws"
      },
      "source": [
        "Finally, you need an infinite loop which runs until the user wants it to and asks for the next word (if the user wants to query more) or end the loop."
      ],
      "id": "J8t4tOQEz9ws"
    },
    {
      "cell_type": "code",
      "metadata": {
        "trusted": true,
        "id": "oott9wP2z9wt"
      },
      "source": [
        "while 1>0: #Infinite while loop.   \n",
        "    \n",
        "  Choice = str(input(\"Press Y in order to Continue with the next query or N to end. (Please press Enter after entering your choice.)\"))  \n",
        "  \n",
        "  if Choice == \"Y\":  #If the user wants to query \n",
        "    word, max_num = GetQuery()\n",
        "    PrintResult(word, max_num)       \n",
        "        \n",
        "  else:\n",
        "    break #Else the loop ends."
      ],
      "id": "oott9wP2z9wt",
      "execution_count": null,
      "outputs": []
    }
  ]
}